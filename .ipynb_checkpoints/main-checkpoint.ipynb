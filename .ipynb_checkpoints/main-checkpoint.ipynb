{
 "cells": [
  {
   "cell_type": "markdown",
   "metadata": {
    "colab_type": "text",
    "id": "TmlDsHXv2p7I"
   },
   "source": [
    "# Setup (for Colab)"
   ]
  },
  {
   "cell_type": "code",
   "execution_count": null,
   "metadata": {
    "colab": {
     "base_uri": "https://localhost:8080/",
     "height": 841
    },
    "colab_type": "code",
    "id": "UyWuEFtKz4-y",
    "outputId": "eeda1e46-ac32-4d15-aafe-fb8a105b081b"
   },
   "outputs": [],
   "source": [
    "import cv2\n",
    "from PIL import Image\n",
    "from google.colab.patches import cv2_imshow\n",
    "import os\n",
    "from google.colab import drive\n",
    "\n",
    "drive.mount('/content/drive')\n",
    "%cd '/drive/AffineGAN'\n",
    "\n",
    "!nvidia-smi\n",
    "!python -m pip install -r requirements.txt pillow scipy==1.1.0"
   ]
  },
  {
   "cell_type": "markdown",
   "metadata": {},
   "source": [
    "# Setup (for normal users)"
   ]
  },
  {
   "cell_type": "code",
   "execution_count": null,
   "metadata": {},
   "outputs": [],
   "source": [
    "# !python -m pip install -r requirements.txt pillow scipy==1.1.0"
   ]
  },
  {
   "cell_type": "markdown",
   "metadata": {
    "colab_type": "text",
    "id": "SLC9sFNamXnW"
   },
   "source": [
    "# UTDAL_smile"
   ]
  },
  {
   "cell_type": "markdown",
   "metadata": {
    "colab_type": "text",
    "id": "QfwVzFW9cXZ3"
   },
   "source": [
    "## Train (using pretrained weights)\n"
   ]
  },
  {
   "cell_type": "code",
   "execution_count": null,
   "metadata": {
    "colab": {},
    "colab_type": "code",
    "id": "qUSPEF6ZtOf6"
   },
   "outputs": [],
   "source": [
    "# For getting initial weights for both generator and discriminator after 1 epoch, since we do not have pretrained discriminator weights\n",
    "!python train.py --dataroot ./dataset/UTDAL_smile --name UTDAL_smile --checkpoints_dir ./checkpoints --gpu_ids 0 --save_epoch_freq 1"
   ]
  },
  {
   "cell_type": "code",
   "execution_count": null,
   "metadata": {
    "colab": {
     "base_uri": "https://localhost:8080/",
     "height": 1000
    },
    "colab_type": "code",
    "id": "U44ZaQJmm1lt",
    "outputId": "b79ff406-92e9-4d4b-a977-24685d74dba9"
   },
   "outputs": [],
   "source": [
    "!python train.py --dataroot ./dataset/UTDAL_smile --name UTDAL_smile --checkpoints_dir ./checkpoints --gpu_ids 0 --continue_train"
   ]
  },
  {
   "cell_type": "markdown",
   "metadata": {
    "colab_type": "text",
    "id": "Ud-3DB_yc8PM"
   },
   "source": [
    "## Train (from scratch)"
   ]
  },
  {
   "cell_type": "code",
   "execution_count": null,
   "metadata": {
    "colab": {},
    "colab_type": "code",
    "id": "ktXFw_UydCex"
   },
   "outputs": [],
   "source": [
    "!python train.py --dataroot ./dataset/UTDAL_smile --name UTDAL_smile --checkpoints_dir ./checkpoints --gpu_ids 0"
   ]
  },
  {
   "cell_type": "markdown",
   "metadata": {
    "colab_type": "text",
    "id": "CgfGPa6TcjEA"
   },
   "source": [
    "## Generate\n"
   ]
  },
  {
   "cell_type": "code",
   "execution_count": null,
   "metadata": {
    "colab": {
     "base_uri": "https://localhost:8080/",
     "height": 1000
    },
    "colab_type": "code",
    "id": "f91McXqrxzRv",
    "outputId": "95caf1aa-df28-43de-eaac-2881abed36f0"
   },
   "outputs": [],
   "source": [
    "# Set --dataroot ./dataset/dataset_name --name experiment_name to generate images\n",
    "# Set interval length with --interval interval\n",
    "# The amount of images generated is 1 / interval, for expression intensity from a = 0 to a = 1,\n",
    "!python3 generate.py --dataroot ./dataset/UTDAL_smile --name UTDAL_smile --results_dir ./dataset/UTDAL_smile/generated/ --eval --interval 0.1"
   ]
  }
 ],
 "metadata": {
  "accelerator": "GPU",
  "colab": {
   "collapsed_sections": [],
   "name": "Copy of main.ipynb",
   "provenance": []
  },
  "kernelspec": {
   "display_name": "Python 3",
   "language": "python",
   "name": "python3"
  },
  "language_info": {
   "codemirror_mode": {
    "name": "ipython",
    "version": 3
   },
   "file_extension": ".py",
   "mimetype": "text/x-python",
   "name": "python",
   "nbconvert_exporter": "python",
   "pygments_lexer": "ipython3",
   "version": "3.7.4"
  }
 },
 "nbformat": 4,
 "nbformat_minor": 1
}
