{
 "cells": [
  {
   "cell_type": "markdown",
   "metadata": {
    "colab_type": "text",
    "id": "TmlDsHXv2p7I"
   },
   "source": [
    "# Setup"
   ]
  },
  {
   "cell_type": "code",
   "execution_count": null,
   "metadata": {
    "colab": {
     "base_uri": "https://localhost:8080/",
     "height": 841
    },
    "colab_type": "code",
    "id": "UyWuEFtKz4-y",
    "outputId": "eeda1e46-ac32-4d15-aafe-fb8a105b081b"
   },
   "outputs": [],
   "source": [
    "import cv2\n",
    "from PIL import Image\n",
    "from google.colab.patches import cv2_imshow\n",
    "import os\n",
    "from google.colab import drive\n",
    "\n",
    "drive.mount('/content/drive')\n",
    "%cd './drive/My Drive/Colab Notebooks/Computer Vision/affinegan/AffineGAN-master'\n",
    "\n",
    "!nvidia-smi\n",
    "!python -m pip install -r requirements.txt pillow scipy==1.1.0"
   ]
  },
  {
   "cell_type": "code",
   "execution_count": null,
   "metadata": {
    "colab": {
     "base_uri": "https://localhost:8080/",
     "height": 232
    },
    "colab_type": "code",
    "id": "0HD9aQoH4qBE",
    "outputId": "fa5fba75-5486-4ca4-abd9-4431c1cdb0d5"
   },
   "outputs": [],
   "source": [
    "# to be completed\n",
    "import imageio\n",
    "import os\n",
    "import numpy as np\n",
    "import argparse\n",
    "\n",
    "base_output_dir = \"gifs\"\n",
    "# parser = argparse.ArgumentParser(formatter_class=argparse.ArgumentDefaultsHelpFormatter)\n",
    "# parser.add_argument(\"--exp_names\", required=True, help=\"exp_names\")\n",
    "# parser.add_argument(\"--results_dir\", default=\"./results/\", type=str, help=\"results_dir\")\n",
    "# parser.add_argument(\"--epoch\", default=\"latest\", help=\"which epoch\")\n",
    "# parser.add_argument(\"--phase\", default=\"test\", help=\"which phase\")\n",
    "# parser.add_argument(\"--dataroot\", required=True, help=\"path to images\")\n",
    "# parser.add_argument(\"--interval\", default=0.05, type=float, help=\"time interval\")\n",
    "# opt, _ = parser.parse_known_args()\n",
    "\n",
    "interval = 0.1\n",
    "dataroot = \"./results/UTDAL_smile\"\n",
    "phase = \"test\"\n",
    "epoch = \"latest\"\n",
    "results_dir = \"./results/\"\n",
    "exp_names = \"UTDAL_smile\"\n",
    "exp_list = exp_names.split(\",\")\n",
    "\n",
    "for exp_name in exp_list:\n",
    "    current_output_dir = os.path.join(results_dir, base_output_dir, exp_name)\n",
    "    if not os.path.exists(current_output_dir):\n",
    "        os.makedirs(current_output_dir)\n",
    "    for sample_idx in os.listdir(os.path.join(dataroot, \"test_latest\", \"images\")):\n",
    "        filenames = []\n",
    "        images = []\n",
    "        num_str = sample_idx\n",
    "\n",
    "        for i in range(int(1 /interval)):\n",
    "            c_name = os.path.join(\n",
    "                results_dir,\n",
    "                exp_name,\n",
    "                \"%s_%s\" % (phase, epoch),\n",
    "                \"images\",\n",
    "                \"%s_fake_B_list%d.png\" % (num_str, i),\n",
    "            )\n",
    "\n",
    "            filenames.append(c_name)\n",
    "        for filename in filenames:\n",
    "            a = np.array(imageio.imread(filename))\n",
    "            images.append(a)\n",
    "\n",
    "        output_dir = os.path.join(\n",
    "            current_output_dir, sample_idx + \"_\" + str(epoch) + \".gif\"\n",
    "        )\n",
    "        imageio.mimsave(output_dir, images)\n"
   ]
  },
  {
   "cell_type": "markdown",
   "metadata": {
    "colab_type": "text",
    "id": "SLC9sFNamXnW"
   },
   "source": [
    "# UTDAL_smile"
   ]
  },
  {
   "cell_type": "markdown",
   "metadata": {
    "colab_type": "text",
    "id": "QfwVzFW9cXZ3"
   },
   "source": [
    "## Train (using pretrained weights)\n"
   ]
  },
  {
   "cell_type": "code",
   "execution_count": null,
   "metadata": {
    "colab": {},
    "colab_type": "code",
    "id": "qUSPEF6ZtOf6"
   },
   "outputs": [],
   "source": [
    "# For getting initial weights for both generator and discriminator after 1 epoch, since we do not have pretrained discriminator weights\n",
    "!python train.py --dataroot ./dataset/UTDAL_smile --name UTDAL_smile --checkpoints_dir ./checkpoints --gpu_ids 0 --save_epoch_freq 1"
   ]
  },
  {
   "cell_type": "code",
   "execution_count": null,
   "metadata": {
    "colab": {
     "base_uri": "https://localhost:8080/",
     "height": 1000
    },
    "colab_type": "code",
    "id": "U44ZaQJmm1lt",
    "outputId": "b79ff406-92e9-4d4b-a977-24685d74dba9"
   },
   "outputs": [],
   "source": [
    "!python train.py --dataroot ./dataset/UTDAL_smile --name UTDAL_smile --checkpoints_dir ./checkpoints --gpu_ids 0 --continue_train"
   ]
  },
  {
   "cell_type": "markdown",
   "metadata": {
    "colab_type": "text",
    "id": "Ud-3DB_yc8PM"
   },
   "source": [
    "## Train (from scratch)"
   ]
  },
  {
   "cell_type": "code",
   "execution_count": null,
   "metadata": {
    "colab": {},
    "colab_type": "code",
    "id": "ktXFw_UydCex"
   },
   "outputs": [],
   "source": [
    "!python train.py --dataroot ./dataset/UTDAL_smile --name UTDAL_smile --checkpoints_dir ./checkpoints --gpu_ids 0"
   ]
  },
  {
   "cell_type": "markdown",
   "metadata": {
    "colab_type": "text",
    "id": "CgfGPa6TcjEA"
   },
   "source": [
    "## Generate\n"
   ]
  },
  {
   "cell_type": "code",
   "execution_count": null,
   "metadata": {
    "colab": {
     "base_uri": "https://localhost:8080/",
     "height": 1000
    },
    "colab_type": "code",
    "id": "f91McXqrxzRv",
    "outputId": "95caf1aa-df28-43de-eaac-2881abed36f0"
   },
   "outputs": [],
   "source": [
    "# Set --dataroot ./dataset/dataset_name --name experiment_name to generate images\n",
    "# Set interval length with --interval interval\n",
    "# The amount of images generated is 1 / interval, for expression intensity from a = 0 to a = 1,\n",
    "!python3 generate.py --dataroot ./dataset/UTDAL_smile --name UTDAL_smile --eval --interval 0.1"
   ]
  }
 ],
 "metadata": {
  "accelerator": "GPU",
  "colab": {
   "collapsed_sections": [],
   "name": "Copy of main.ipynb",
   "provenance": []
  },
  "kernelspec": {
   "display_name": "Python 3",
   "language": "python",
   "name": "python3"
  },
  "language_info": {
   "codemirror_mode": {
    "name": "ipython",
    "version": 3
   },
   "file_extension": ".py",
   "mimetype": "text/x-python",
   "name": "python",
   "nbconvert_exporter": "python",
   "pygments_lexer": "ipython3",
   "version": "3.7.4"
  }
 },
 "nbformat": 4,
 "nbformat_minor": 1
}
